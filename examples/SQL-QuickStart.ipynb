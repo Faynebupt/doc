{
 "cells": [
  {
   "cell_type": "markdown",
   "id": "5b8b8e83",
   "metadata": {},
   "source": [
    "假设某电商网站存在两份数据events.csv，users.csv，分别记录了用户的访问、下单和购买信息以及用户的个人信息，下面从不同的分析场景举例来说明如何使用SQL引擎进行常用的用户行为分析。"
   ]
  },
  {
   "cell_type": "markdown",
   "id": "d050217b",
   "metadata": {},
   "source": [
    "events.csv的数据格式如下：\n",
    "1,83,pay_order,2021-04-09 01:13:20,sp_19819,85.01\n",
    "2,1,pay_order,2021-04-08 09:52:18,sp_55012,50.97\n",
    "3,72,add_cart,2021-04-06 05:39:10,sp_1044,0.0\n",
    "4,73,visit,2021-04-07 14:28:30,sp_14826,0.0\n",
    "5,53,visit,2021-04-10 08:28:59,sp_38361,0.0\n",
    "6,94,pay_order,2021-04-05 22:19:46,sp_79211,5.19"
   ]
  },
  {
   "cell_type": "markdown",
   "id": "01a94c75",
   "metadata": {},
   "source": [
    "user.csv的数据内容如下：\n",
    "1,2,z6s5g0duce,28,1,长春\n",
    "2,2,t+nhd2scbv,18,1,南京\n",
    "3,4,4u8dmz+xgh,27,1,长沙\n",
    "4,1,r4y5ti16j+,60,1,广州\n",
    "5,2,ilgt53hb7c,62,2,兰州"
   ]
  },
  {
   "cell_type": "markdown",
   "id": "74dcf075",
   "metadata": {},
   "source": [
    "首先生成测试两份数据：events.csv和user.csv"
   ]
  },
  {
   "cell_type": "code",
   "execution_count": 8,
   "id": "67f8474e",
   "metadata": {},
   "outputs": [],
   "source": [
    "from sql_data_generator import DataGenerator\n",
    "user_num = 10000\n",
    "event_num = 1000000\n",
    "generator = DataGenerator()\n",
    "generator.user_data_generation(\"./users.csv\", user_num)\n",
    "generator.event_data_generation(\"./events.csv\", event_num, user_num)"
   ]
  },
  {
   "cell_type": "markdown",
   "id": "b38f081c",
   "metadata": {},
   "source": [
    "初始化一下环境"
   ]
  },
  {
   "cell_type": "code",
   "execution_count": 6,
   "id": "245b670f",
   "metadata": {},
   "outputs": [],
   "source": [
    "import blackhole as bh\n",
    "schema_events = '''\n",
    "    event_id Int64,\n",
    "    user_id Int32, \n",
    "    event Enum('visit'=1,'add_cart'=2,'pay_order'=3), \n",
    "    time DateTime,\n",
    "    item_id String,\n",
    "    fee Float32 \n",
    "'''\n",
    "schema_users = '''\n",
    "    user_id Int32,\n",
    "    equip Enum('android'=1,'ios'=2,'wm'=3,'pc'=4),\n",
    "    user_name String,\n",
    "    age Int8,\n",
    "    gender Enum('男'=1,'女'=2),\n",
    "    city String\n",
    "'''\n",
    "format = 'CSV'\n",
    "table_events = 'events'\n",
    "table_users = 'users'"
   ]
  },
  {
   "cell_type": "markdown",
   "id": "0baf18b9",
   "metadata": {},
   "source": [
    "建表并导入数据"
   ]
  },
  {
   "cell_type": "code",
   "execution_count": 9,
   "id": "2ea51215",
   "metadata": {},
   "outputs": [
    {
     "data": {
      "text/plain": [
       "<blackhole.sql.dataset.dataset.Dataset at 0x7f022478b4d0>"
      ]
     },
     "execution_count": 9,
     "metadata": {},
     "output_type": "execute_result"
    }
   ],
   "source": [
    "bh.sql(\"create table if not exists {} ({}) Engine=MergeTree() order by tuple()\".format(table_events, schema_events))\n",
    "bh.sql(\"insert into table {} from infile '{}' format CSV\".format(table_events, \"./events.csv\"))\n",
    "bh.sql(\"create table if not exists {} ({}) Engine=MergeTree() order by tuple()\".format(table_users, schema_users))\n",
    "bh.sql(\"insert into table {} from infile '{}' format CSV\".format(table_users, \"./users.csv\"))"
   ]
  },
  {
   "cell_type": "markdown",
   "id": "b9daa9af",
   "metadata": {},
   "source": [
    "查询日访问量(PV统计)"
   ]
  },
  {
   "cell_type": "code",
   "execution_count": 10,
   "id": "adbbddd2",
   "metadata": {},
   "outputs": [
    {
     "name": "stdout",
     "output_type": "stream",
     "text": [
      "  今日PV\n",
      "--------\n",
      "   33360\n"
     ]
    }
   ],
   "source": [
    "sql_pv = '''SELECT count() as \"今日PV\" FROM events as t\n",
    "WHERE toDate(t.time)=today() AND t.event='visit' '''\n",
    "bh.sql(sql_pv).show()"
   ]
  },
  {
   "cell_type": "markdown",
   "id": "73d78025",
   "metadata": {},
   "source": [
    "日活用户量(UV统计)"
   ]
  },
  {
   "cell_type": "code",
   "execution_count": 11,
   "id": "fb3130a1",
   "metadata": {},
   "outputs": [
    {
     "name": "stdout",
     "output_type": "stream",
     "text": [
      "  今日UV\n",
      "--------\n",
      "    9619\n"
     ]
    }
   ],
   "source": [
    "sql_uv = '''SELECT count(DISTINCT t.user_id) as \"今日UV\" FROM events as t\n",
    "WHERE toDate(t.time)=today() AND t.event='visit' '''\n",
    "bh.sql(sql_uv).show()"
   ]
  },
  {
   "cell_type": "code",
   "execution_count": null,
   "id": "21edb7dd",
   "metadata": {},
   "outputs": [],
   "source": [
    "查询最近7天日活"
   ]
  },
  {
   "cell_type": "code",
   "execution_count": 12,
   "id": "315c36d2",
   "metadata": {},
   "outputs": [
    {
     "name": "stdout",
     "output_type": "stream",
     "text": [
      "日期          当日UV\n",
      "----------  --------\n",
      "2021-12-13      9973\n",
      "2021-12-14     10001\n",
      "2021-12-15      9999\n",
      "2021-12-16     10001\n",
      "2021-12-17     10000\n",
      "2021-12-18     10001\n",
      "2021-12-19     10001\n",
      "2021-12-20      9619\n"
     ]
    }
   ],
   "source": [
    "sql_7days_uv = '''SELECT toString(toDate(t.time)) as \"日期\", count(DISTINCT t.user_id) as \"当日UV\" FROM events as t\n",
    "WHERE t.event='visit' AND toDate(t.time) BETWEEN today()-7 AND today()\n",
    "GROUP BY toDate(t.time)'''\n",
    "bh.sql(sql_7days_uv).show()"
   ]
  },
  {
   "cell_type": "markdown",
   "id": "3e257b71",
   "metadata": {},
   "source": [
    "查询今天分时活跃数"
   ]
  },
  {
   "cell_type": "code",
   "execution_count": 13,
   "id": "73ffd53b",
   "metadata": {},
   "outputs": [
    {
     "name": "stdout",
     "output_type": "stream",
     "text": [
      "  时段    小时UV\n",
      "------  --------\n",
      "     0      3264\n",
      "     1      3289\n",
      "     2      3264\n",
      "     3      3302\n",
      "     4      3215\n",
      "     5      3243\n",
      "     6      3243\n",
      "     7      3228\n",
      "     8      1652\n"
     ]
    }
   ],
   "source": [
    "sql_time_uv = '''SELECT toHour(t.time) as \"时段\", count(DISTINCT t.user_id) as \"小时UV\" FROM events as t\n",
    "WHERE t.event='visit' AND toDate(t.time)=today()\n",
    "GROUP BY toHour(t.time)'''\n",
    "bh.sql(sql_time_uv).show()"
   ]
  },
  {
   "cell_type": "markdown",
   "id": "e855d4ed",
   "metadata": {},
   "source": [
    "查询每天上午 10 点至 11 点的下单用户数"
   ]
  },
  {
   "cell_type": "code",
   "execution_count": 14,
   "id": "bd5562ec",
   "metadata": {},
   "outputs": [
    {
     "name": "stdout",
     "output_type": "stream",
     "text": [
      "日期          下单用户数\n",
      "----------  ------------\n",
      "2021-12-13          5500\n",
      "2021-12-14          5439\n",
      "2021-12-15          5481\n",
      "2021-12-16          5460\n",
      "2021-12-17          5534\n",
      "2021-12-18          5388\n",
      "2021-12-19          5394\n"
     ]
    }
   ],
   "source": [
    "sql_10_11_up = '''SELECT toString(toDate(t.time)) as \"日期\", count(DISTINCT t.user_id) as \"下单用户数\" FROM events as t\n",
    "WHERE t.event='add_cart' AND EXTRACT(HOUR FROM t.time) IN (10,11)\n",
    "GROUP BY toDate(t.time)'''\n",
    "bh.sql(sql_10_11_up).show()"
   ]
  },
  {
   "cell_type": "markdown",
   "id": "874e8194",
   "metadata": {},
   "source": [
    "查询来自某个城市的用户有多少"
   ]
  },
  {
   "cell_type": "code",
   "execution_count": 15,
   "id": "64015b8d",
   "metadata": {},
   "outputs": [
    {
     "name": "stdout",
     "output_type": "stream",
     "text": [
      "城市        用户数\n",
      "--------  --------\n",
      "银川           232\n",
      "拉萨           236\n",
      "大连           247\n",
      "苏州           243\n",
      "海口           232\n",
      "天津           256\n",
      "福州           239\n",
      "成都           232\n",
      "厦门           230\n",
      "南昌           271\n",
      "三亚           253\n",
      "长春           276\n",
      "杭州           210\n",
      "邯郸           253\n",
      "无锡           268\n",
      "上海           232\n",
      "香港           241\n",
      "南京           244\n",
      "深圳           257\n",
      "西安           243\n",
      "贵阳           237\n",
      "台北           227\n",
      "太原           253\n",
      "兰州           251\n",
      "济南           254\n",
      "重庆           244\n",
      "南宁           269\n",
      "北京           223\n",
      "广州           217\n",
      "青岛           210\n",
      "昆明           213\n",
      "宁波           261\n",
      "合肥           258\n",
      "长沙           256\n",
      "武汉           223\n",
      "郑州           250\n",
      "沈阳           253\n",
      "呼和浩特       250\n",
      "乌鲁木齐       264\n",
      "哈尔滨         259\n",
      "石家庄         233\n"
     ]
    }
   ],
   "source": [
    "sql_city_users = '''SELECT t.city as \"城市\", count(t.user_id) as \"用户数\" FROM users as t\n",
    "GROUP BY t.city'''\n",
    "bh.sql(sql_city_users).show()"
   ]
  },
  {
   "cell_type": "markdown",
   "id": "793889f2",
   "metadata": {},
   "source": [
    "漏斗分析 visit（访问）—add_cart（下单）—pay_order（支付）（窗口期 48 小时且严格满足事件先后顺序"
   ]
  },
  {
   "cell_type": "code",
   "execution_count": 16,
   "id": "47f4a69b",
   "metadata": {},
   "outputs": [
    {
     "name": "stdout",
     "output_type": "stream",
     "text": [
      "  全流程用户数\n",
      "--------------\n",
      "         10001\n"
     ]
    }
   ],
   "source": [
    "sql_vap_analyze = ''' SELECT count(DISTINCT t.user_id) as \"全流程用户数\" FROM\n",
    "(\n",
    "SELECT user_id, windowFunnel(172800)(time, event='visit',event='add_cart',event='pay_order') as level\n",
    "FROM events\n",
    "GROUP BY user_id\n",
    ") as t WHERE t.level=3 '''\n",
    "bh.sql(sql_vap_analyze).show()"
   ]
  },
  {
   "cell_type": "markdown",
   "id": "c84b66a0",
   "metadata": {},
   "source": [
    "统计连续3(n)天访问的用户数"
   ]
  },
  {
   "cell_type": "code",
   "execution_count": 17,
   "id": "de666f87",
   "metadata": {},
   "outputs": [
    {
     "name": "stdout",
     "output_type": "stream",
     "text": [
      "  连续3天访问用户数\n",
      "-------------------\n",
      "              10001\n"
     ]
    }
   ],
   "source": [
    "sql_3days_continues_visit = ''' SELECT count(t2.user_id) as \"连续3天访问用户数\" FROM\n",
    "(\n",
    "SELECT user_id, windowFunnel(3)(t.dt, runningDifference(t.dt)=1, runningDifference(t.dt)=1) as level FROM\n",
    "(\n",
    "SELECT user_id, toDate(time) as dt FROM events ORDER BY user_id, time\n",
    ") as t GROUP BY t.user_id\n",
    ") as t2 WHERE t2.level=2 '''\n",
    "bh.sql(sql_3days_continues_visit).show()"
   ]
  },
  {
   "cell_type": "markdown",
   "id": "500b910b",
   "metadata": {},
   "source": [
    "统计过去3天内浏览最多的3件商品"
   ]
  },
  {
   "cell_type": "code",
   "execution_count": 18,
   "id": "88190662",
   "metadata": {},
   "outputs": [
    {
     "name": "stdout",
     "output_type": "stream",
     "text": [
      "res\n",
      "----------------------------------\n",
      "['sp_80222','sp_31621','sp_60158']\n"
     ]
    }
   ],
   "source": [
    "sql_top_sp_in_3_days = ''' SELECT topK(3)(t.item_id) as res FROM events as t WHERE t.event='visit' AND toDate(now()) - toDate(t.time) <=3 '''\n",
    "bh.sql(sql_top_sp_in_3_days).show()"
   ]
  },
  {
   "cell_type": "markdown",
   "id": "434331e5",
   "metadata": {},
   "source": [
    "统计过去3天内消费最多的3位用户"
   ]
  },
  {
   "cell_type": "code",
   "execution_count": 19,
   "id": "5fd2235e",
   "metadata": {},
   "outputs": [
    {
     "name": "stdout",
     "output_type": "stream",
     "text": [
      "  user_id      res\n",
      "---------  -------\n",
      "     2509  72062.9\n",
      "     9500  69679.9\n",
      "     1501  68914\n"
     ]
    }
   ],
   "source": [
    "sql_top_user_in_3_days = ''' SELECT t.user_id, t.fees as res FROM\n",
    "(\n",
    "SELECT user_id, sum(fee) as fees from events WHERE toDate(now()) - toDate(events.time) <=3 GROUP BY user_id\n",
    ") as t ORDER BY res DESC limit 3 '''\n",
    "bh.sql(sql_top_user_in_3_days).show()"
   ]
  },
  {
   "cell_type": "markdown",
   "id": "397a0f42",
   "metadata": {},
   "source": [
    "以上例子几乎涵盖了绝大部分用户行为分析的场景，当然用法不止上面这些，还有一些变通的用法，这里这是举例说明如何使用SQL引擎"
   ]
  }
 ],
 "metadata": {
  "kernelspec": {
   "display_name": "Python 3",
   "language": "python",
   "name": "python3"
  },
  "language_info": {
   "codemirror_mode": {
    "name": "ipython",
    "version": 3
   },
   "file_extension": ".py",
   "mimetype": "text/x-python",
   "name": "python",
   "nbconvert_exporter": "python",
   "pygments_lexer": "ipython3",
   "version": "3.7.9"
  }
 },
 "nbformat": 4,
 "nbformat_minor": 5
}
